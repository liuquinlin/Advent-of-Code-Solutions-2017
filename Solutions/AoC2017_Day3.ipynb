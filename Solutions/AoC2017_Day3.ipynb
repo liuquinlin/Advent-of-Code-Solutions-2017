{
 "cells": [
  {
   "cell_type": "markdown",
   "metadata": {},
   "source": [
    "# [Day 3: Spiral Memory](https://adventofcode.com/2017/day/3)\n",
    "\n",
    "## Part A\n",
    "\n",
    "Today's challenge was a much more interesting and difficult one than the previous two, with lots of possible different implementations.\n",
    "\n",
    "Essentially we're dealing with a number spiral here:\n",
    "\n",
    "```\n",
    "17  16  15  14  13\n",
    "18   5   4   3  12\n",
    "19   6   1   2  11\n",
    "20   7   8   9  10\n",
    "21  22  23  24  ...\n",
    "```\n",
    "\n",
    "and for any number in the spiral, we'd like to know its [Manhattan distance](https://en.wikipedia.org/wiki/Taxicab_geometry) from 1. For instance, the distance for 12 is 3 (2 horizontally, 1 vertically).\n",
    "\n",
    "Let's first take a look at a  \"brute force\" method, i.e we'll actually go and calculate out the spiral. Doing so seems somewhat complicated at first, but we can find a pretty simple pattern among the way the numbers are arranged: `1R, 1U, 2L, 2D, 3R, 3U, 4L, 4D, 5R, 5U, ...` where `3L` means you move left three times (and have a number in each spot). So the pattern for travel seems to generally be `move X, turn, move X, turn, move X+1, turn, move X+1, turn, ...`.\n",
    "\n",
    "Let's make a Python [generator](https://wiki.python.org/moin/Generators) (think of it as a sequence that you call .next() on to get the next in the sequence) for the spiral indices. What we'll do is maintain our current spot in space `(x,y)`, a direction to travel `(dx,dy)` (e.g up would be `(0,1)`), and a distance to travel before turning, `distance_to_travel`. Whenever we turn to the left or to the right (i.e a turn to face a horizontal direction) we increase `distance_to_travel` by one."
   ]
  },
  {
   "cell_type": "code",
   "execution_count": 1,
   "metadata": {},
   "outputs": [],
   "source": [
    "def spiral_indices():\n",
    "    # Helper for turning\n",
    "    def turn_ccw(dx, dy):\n",
    "        return (-dy, dx)\n",
    "    \n",
    "    (x, y) = (0, 0)   # Start at origin\n",
    "    (dx, dy) = (1, 0) # Initial direction is rightwaesa\n",
    "    distance_to_travel = 1\n",
    "    distance_travelled = 0\n",
    "    \n",
    "    yield (x,y) # Return (0,0) the first time\n",
    "\n",
    "    while(True):\n",
    "        # Move\n",
    "        (x, y) = (x + dx, y + dy)\n",
    "        distance_travelled += 1\n",
    "        \n",
    "        # If we've reached the end of a segment turn, and if\n",
    "        # we're now facing left/right, increment the distance\n",
    "        # to travel\n",
    "        if (distance_to_travel == distance_travelled):\n",
    "            distance_travelled = 0\n",
    "            (dx, dy) = turn_ccw(dx, dy)\n",
    "            if (dy == 0):\n",
    "                distance_to_travel += 1\n",
    "        \n",
    "        yield (x,y)"
   ]
  },
  {
   "cell_type": "markdown",
   "metadata": {},
   "source": [
    "This code might seem really weird if you're unfamiliar with generators; after all isn't there an infinite loop? Basically, how a generator works is that when you call `next` on it, it executes the function until it first sees `yield X` and then returns X. The next time you call `next` it will continue \"where it left off\" (so the function execution doesn't start all over). It also works as you'd expect in things like for loops. Here's an example of our spiral generator in action:"
   ]
  },
  {
   "cell_type": "code",
   "execution_count": 2,
   "metadata": {},
   "outputs": [
    {
     "name": "stdout",
     "output_type": "stream",
     "text": [
      "(0, 0)\n",
      "(1, 0)\n",
      "(1, 1)\n"
     ]
    }
   ],
   "source": [
    "gen = spiral_indices() # Initialize the generator\n",
    "print(next(gen))\n",
    "print(next(gen))\n",
    "print(next(gen))"
   ]
  },
  {
   "cell_type": "code",
   "execution_count": 3,
   "metadata": {},
   "outputs": [
    {
     "name": "stdout",
     "output_type": "stream",
     "text": [
      "(0, 0)\n",
      "(1, 0)\n",
      "(1, 1)\n",
      "(0, 1)\n",
      "(-1, 1)\n",
      "(-1, 0)\n",
      "(-1, -1)\n",
      "(0, -1)\n",
      "(1, -1)\n",
      "(2, -1)\n"
     ]
    }
   ],
   "source": [
    "for i in spiral_indices():\n",
    "    print(i)\n",
    "    if (i[0] > 1):\n",
    "        break"
   ]
  },
  {
   "cell_type": "markdown",
   "metadata": {},
   "source": [
    "With this generator in place, finding the Manhattan distance of `n` is very simple."
   ]
  },
  {
   "cell_type": "code",
   "execution_count": 4,
   "metadata": {},
   "outputs": [],
   "source": [
    "def test_spirals(f):\n",
    "    assert(f(1) == 0)\n",
    "    assert(f(12) == 3)\n",
    "    assert(f(23) == 2)\n",
    "    assert(f(1024) == 31)\n",
    "\n",
    "# Helper for finding a Manhattan distnace\n",
    "def manhattan_dist(x, y):\n",
    "    return abs(x) + abs(y)\n",
    "\n",
    "def spirals(n):\n",
    "    ct = 0\n",
    "    for (x,y) in spiral_indices():\n",
    "        ct += 1\n",
    "        if ct == n:\n",
    "            return manhattan_dist(x, y)\n",
    "\n",
    "test_spirals(spirals)"
   ]
  },
  {
   "cell_type": "markdown",
   "metadata": {},
   "source": [
    "## Part B\n",
    "\n",
    "Now for Part B, we want to imagine the spiral as initially all 0's. Then we fill in the initial 1. The number in the next spiral location is then determined by summing up all its neighbors. So you can imagine the process as\n",
    "```\n",
    "000 000 002 042 542\n",
    "010 011 011 011 011\n",
    "000 000 000 000 000 ...\n",
    "```\n",
    "and the end result would be something that looks like\n",
    "```\n",
    "147  142  133  122   59\n",
    "304    5    4    2   57\n",
    "330   10    1    1   54\n",
    "351   11   23   25   26\n",
    "362  747  806  ...\n",
    "```\n",
    "\n",
    "We want the first value in the spiral that is larger than some number `n`.\n",
    "\n",
    "To accomplish this we'll reuse the spiral_indices generator from Part A. We can keep track of an infinite grid initialized to 0 by using a dictionary mapping tuples `(i,j)` to the value at that location, and saying that the value is 0 if that tuple isn't in the dictionary yet. Then, as we iterate through the spiral we just need to properly update that dictionary. "
   ]
  },
  {
   "cell_type": "code",
   "execution_count": 5,
   "metadata": {},
   "outputs": [
    {
     "name": "stdout",
     "output_type": "stream",
     "text": [
      "63.5 µs ± 1.36 µs per loop (mean ± std. dev. of 7 runs, 10000 loops each)\n",
      "90 µs ± 1.84 µs per loop (mean ± std. dev. of 7 runs, 10000 loops each)\n",
      "132 µs ± 1.49 µs per loop (mean ± std. dev. of 7 runs, 10000 loops each)\n"
     ]
    }
   ],
   "source": [
    "def test_spiral_sum(f):\n",
    "    assert(f(1) == 2)\n",
    "    assert(f(2) == 4)\n",
    "    assert(f(5) == 10)\n",
    "    assert(f(330) == 351)\n",
    "    assert(f(500) == 747)\n",
    "\n",
    "def spiral_sum(n):\n",
    "    # Store the value at each location (i,j)\n",
    "    locs = {}\n",
    "    locs[(0,0)] = 1\n",
    "\n",
    "    # Helper for accessing the location dictionary\n",
    "    def get_loc(x,y):\n",
    "        return locs[(x,y)] if (x,y) in locs else 0\n",
    "\n",
    "    # Helper for calculating what the value of a location should be\n",
    "    def record_loc(x,y):\n",
    "        value = (get_loc(x-1,y+1) + get_loc(x,y+1) + get_loc(x+1,y+1) + \n",
    "                 get_loc(x-1,y)   +                  get_loc(x+1,y) + \n",
    "                 get_loc(x-1,y-1) + get_loc(x,y-1) + get_loc(x+1,y-1))\n",
    "        locs[(x,y)] = value\n",
    "        return value\n",
    "\n",
    "    for (x, y) in spiral_indices():\n",
    "        if x == 0 and y == 0: # Skip the initial index\n",
    "            continue\n",
    "        value = record_loc(x, y)\n",
    "        if value > n:\n",
    "            return value\n",
    "\n",
    "test_spiral_sum(spiral_sum)\n",
    "\n",
    "%timeit spiral_sum(1000)\n",
    "%timeit spiral_sum(10000)\n",
    "%timeit spiral_sum(100000)"
   ]
  },
  {
   "cell_type": "markdown",
   "metadata": {},
   "source": [
    "Note that there are a few things that we could do to speed up the process for Part B. In particular, one simpleish optimization is to realize that in `record_loc`, we don't need to be checking every neighbor. For instance, if we know we're currently traveling up in the spiral we know everything to the right will be 0. If we're traveling left, than everything above us is 0. And so on. Thus we only actually need to look at 5 neighbors rather than 8.\n",
    "\n",
    "Looking at the timing we can see that although it feels a bit slow, the time increase actually isn't that bad for larger `n` (due to the fact that the values being stored in the spiral get larger quite quickly)."
   ]
  },
  {
   "cell_type": "markdown",
   "metadata": {},
   "source": [
    "## Alternatives for Part A\n",
    "\n",
    "The spiral indices generator works out nicely for accomplishing both Part A and Part B, but there are plenty of tricks you can do in Part A to avoid such brute force generation of the entire spiral (and perhaps tricks for Part B as well, although I haven't figured out anything good yet).\n",
    "\n",
    "For one, instead of looking at the spiral as a spiral, we can look at it as layers of squares. For example, the third layer would be\n",
    "\n",
    "```\n",
    "17  16  15  14  13\n",
    "18              12\n",
    "19              11\n",
    "20              10\n",
    "21  22  23  24  25\n",
    "\n",
    "```\n",
    "\n",
    "Note that the `ith` layer is a square with sides of length `2i-1` (since at each layer the side length increases by 2). This means that the total perimeter of each square is `4*(2i-3) + 4 = 8*(i-1)` (imagine the sides without the corners then adding the corners back in). We can also note that the bottom right corner of the `ith` layer will be `(2i-1)^2` (which makes perfect sense since the `ith` layer is a square with sides of length `2i-1` so the area, i.e the total number of numbers in the square, should be `(2i-1)^2`).\n",
    "\n",
    "So... how does any of this actually help us? Well, note that if you're on the top or bottom side, then the layer square you're on minus 1 is exactly the y-distance (think if it as the number of layers you need to traverse) to the center. Similarly, if you're on the left or right side, the x-distance to the center is just your layer number minus 1. The layer that some number `n` is on is just `i` satisfying `(2(i-1)-1)^2 < n <= (2i-1)^2`. Think of this as being between two consecutive odd squares (since each odd square signals the \"end\" of a spiral layer). So since 15 is between the second odd square (9) and the third odd square (25), it's on the third layer.\n",
    "\n",
    "Great, so finding the layer tells us one component/axis of the Manhattan distance; how do we figure out the other? Well, let's consider the difference between `n` and the bottom right of the current layer, i.e smallest odd square larger than `n`. This should be enough to tell us where along a side we are, and by considering the distance from where on a side we are and the center of a side we can get the other axis for our Manhattan distance. In other words, we can use the idea that `Manhattan distance = (layer - 1) + (distance to the center of side you're on)`.\n",
    "\n",
    "Let's see what we can do once we've calculated `d = (2i-1)^2 - n` (where as before `i` is `n`'s layer). Well for one, we know that every corner is `side_length - 1 = 2(i-1)` apart. So `d % 2(i-1)` gives us our position along any side since every `2(i-1)` moves us to a corner, and then anything left over moves us along a side. As an example, consider 15; it's 10 away from 25, so the first 4 brings it to the bottom left corner, the next 4 to the top left corner, and then the remaining 2 moves it along the side. Now we just need to go from the position along the side to the position at the center of the side. In a side of length `2i-1`, if we count our positions as 0,1,...,2i-2 then clearly the center is just at `2(i-1)/2 = i-1`. So overall, if our position along a side is `p` then the distance to the center of the side we're on is just `abs(p - i + 1)`.\n",
    "\n",
    "OK, so that was a lot of math, but the point is that we first want to calculate what layer we're on , `i`, by looking at what consecutive odd squares it's between. Then we can. `i-1` gives us the distance to the center along one axis. To get the other one, we look at `d = (2i-1)^2 - n` (distance from the bottom right corner). `p = d % 2(i-1)` tells us the position along a side and then `abs(p - i + 1)` tells us our distance from the center of the side, which is the distance to the center along the other axis. So without doing any spiral generation nonsense, we can solve Part A purely mathematically using the following algorithm: "
   ]
  },
  {
   "cell_type": "code",
   "execution_count": 6,
   "metadata": {},
   "outputs": [],
   "source": [
    "def find_layer(n):\n",
    "    i = 2 # Start at layer 2 since we skipped 1\n",
    "    while n > ((2*i - 1)*(2*i - 1)):\n",
    "        i += 1\n",
    "    return i\n",
    "\n",
    "def distance_from_center_of_side(n, i):\n",
    "    bottom_right = (2*i - 1)*(2*i - 1)\n",
    "    dist_from_bottom_right = bottom_right - n\n",
    "    side_length = 2*i - 1\n",
    "    position_along_side = dist_from_bottom_right % (side_length - 1)\n",
    "    center_position_along_side = i - 1\n",
    "    return abs(position_along_side - center_position_along_side)\n",
    "\n",
    "def spiral_math(n):\n",
    "    # Special case for 1 since things are weird for a 1x1 square\n",
    "    if n == 1:\n",
    "        return 0\n",
    "    \n",
    "    layer = find_layer(n)\n",
    "    distance_from_center_of_side(n, layer)\n",
    "    \n",
    "    return (layer - 1) + distance_from_center_of_side(n, layer)\n",
    "\n",
    "test_spirals(spiral_math)"
   ]
  },
  {
   "cell_type": "markdown",
   "metadata": {},
   "source": [
    "or if you just want a shorter chunk of math to speed things up (also note that `((2i - 1)*(2i - 1) - n) % 2(i-1)` simplifies to\n",
    "```\n",
    "(4i^2 - 4i + 1 - n) % 2(i-1) =\n",
    "2i*2(i-1) + 1 - n % 2(i-1) = \n",
    "(1-n) % 2(i-1)\n",
    "```"
   ]
  },
  {
   "cell_type": "code",
   "execution_count": 7,
   "metadata": {},
   "outputs": [],
   "source": [
    "def spiral_math_short(n):\n",
    "    if n == 1:\n",
    "        return 0\n",
    "    i = 2\n",
    "    while n > (2*i - 1)*(2*i - 1):\n",
    "        i += 1\n",
    "    return (i - 1) + abs((1 - n) % (2*i - 2) - i + 1)\n",
    "\n",
    "test_spirals(spiral_math_short)"
   ]
  },
  {
   "cell_type": "markdown",
   "metadata": {},
   "source": [
    "This should be way faster than what we were doing before with manually generating the spiral. Some comparisons can be found below"
   ]
  },
  {
   "cell_type": "code",
   "execution_count": 8,
   "metadata": {},
   "outputs": [
    {
     "name": "stdout",
     "output_type": "stream",
     "text": [
      "23.6 µs ± 1 µs per loop (mean ± std. dev. of 7 runs, 10000 loops each)\n",
      "956 ns ± 25.2 ns per loop (mean ± std. dev. of 7 runs, 1000000 loops each)\n",
      "214 µs ± 8.07 µs per loop (mean ± std. dev. of 7 runs, 1000 loops each)\n",
      "2.47 µs ± 123 ns per loop (mean ± std. dev. of 7 runs, 100000 loops each)\n",
      "2.03 ms ± 27.9 µs per loop (mean ± std. dev. of 7 runs, 1000 loops each)\n",
      "7.37 µs ± 97.8 ns per loop (mean ± std. dev. of 7 runs, 100000 loops each)\n"
     ]
    }
   ],
   "source": [
    "%timeit spirals(100)\n",
    "%timeit spiral_math_short(100)\n",
    "\n",
    "%timeit spirals(1000)\n",
    "%timeit spiral_math_short(1000)\n",
    "\n",
    "%timeit spirals(10000)\n",
    "%timeit spiral_math_short(10000)"
   ]
  }
 ],
 "metadata": {
  "kernelspec": {
   "display_name": "Python 3",
   "language": "python",
   "name": "python3"
  },
  "language_info": {
   "codemirror_mode": {
    "name": "ipython",
    "version": 3
   },
   "file_extension": ".py",
   "mimetype": "text/x-python",
   "name": "python",
   "nbconvert_exporter": "python",
   "pygments_lexer": "ipython3",
   "version": "3.6.3"
  }
 },
 "nbformat": 4,
 "nbformat_minor": 2
}
