{
 "cells": [
  {
   "cell_type": "markdown",
   "metadata": {},
   "source": [
    "# [Day 5: A Maze of Twisty Trampolines, All Alike](https://adventofcode.com/2017/day/5)\n",
    "\n",
    "## Part A\n",
    "\n",
    "Another extremely simple one (codewise), although the instructions took a while to parse. Essentially, you're given a bunch of lines with one integer each, e.g\n",
    "```\n",
    "0\n",
    "3\n",
    "0\n",
    "1\n",
    "-3\n",
    "```\n",
    "\n",
    "Starting with the first line, you look at the number `x` on that line and jump `x` lines (if `x` is positive you're jumping forward, i.e down the list, if it's negative you're going backwards, i.e up the list). After jumping, the number on the line you just left is incremented by one. The final output you want to get is the number of steps it takes you to jump to an invalid line, i.e outside of the given lines. \n",
    "\n",
    "All of this is very straightforwardly implemented via hopping around indices of an array:"
   ]
  },
  {
   "cell_type": "code",
   "execution_count": 14,
   "metadata": {},
   "outputs": [],
   "source": [
    "def test_trampoline(f):\n",
    "    assert(f('0\\n3\\n0\\n1\\n-3') == 5)\n",
    "\n",
    "def trampoline(s):\n",
    "    nums = [ int(row) for row in s.split('\\n') ]\n",
    "    i = 0 # Initial index\n",
    "    steps = 0\n",
    "    while(0 <= i < len(nums)):\n",
    "        tmp = nums[i]\n",
    "        nums[i] += 1\n",
    "        i += tmp\n",
    "        steps += 1\n",
    "    return steps\n",
    "\n",
    "test_trampoline(trampoline)"
   ]
  },
  {
   "cell_type": "markdown",
   "metadata": {},
   "source": [
    "Only thing that might be of note here is that Python supports concatenated boolean operations so we can do `a < b < c` rather than `a < b and b < c`. If you want shorter code and don't like the use of the `tmp` variable, you could instead use Python's tuple assignment (which always evaluates the things on the righthand side first) to get"
   ]
  },
  {
   "cell_type": "code",
   "execution_count": 25,
   "metadata": {},
   "outputs": [],
   "source": [
    "def trampoline_short(s):\n",
    "    nums = [ int(row) for row in s.split('\\n') ]\n",
    "    (i, steps) = (0, 0)\n",
    "    while(0 <= i < len(nums)):\n",
    "        # Note that it's still important that we have nums[i] before i or else\n",
    "        # even though the tuple on the right is evaluated first, when we start\n",
    "        # assigning to the left tuple, by assigning i first we're changing the\n",
    "        # idnex of nums that we're assigning to!\n",
    "        (nums[i], i, steps) = (nums[i] + 1, i + nums[i], steps + 1)\n",
    "    return steps\n",
    "\n",
    "test_trampoline(trampoline_short)"
   ]
  },
  {
   "cell_type": "markdown",
   "metadata": {},
   "source": [
    "...but I don't think there's much else to say here as the solution is pretty obvious and I can't think of any smart ways to improve it much."
   ]
  },
  {
   "cell_type": "markdown",
   "metadata": {},
   "source": [
    "## Part B\n",
    "\n",
    "The next part is a tiny modification on the original. When jumping for a spot, rather than always incrementing it by 1, we instead increment it by 1 if it's less than 3 and otherwise decrement it by 1. So our solution just becomes"
   ]
  },
  {
   "cell_type": "code",
   "execution_count": null,
   "metadata": {},
   "outputs": [],
   "source": [
    "def trampoline_b(s):\n",
    "    nums = [ int(row) for row in s.split('\\n') ]\n",
    "    i = 0 # Initial index\n",
    "    steps = 0\n",
    "    while(i >= 0 and i < len(nums)):\n",
    "        tmp = nums[i]\n",
    "        if tmp >= 3:\n",
    "            nums[i] -= 1\n",
    "        else:\n",
    "            nums[i] += 1\n",
    "        i += tmp\n",
    "        steps += 1\n",
    "    return steps"
   ]
  }
 ],
 "metadata": {
  "kernelspec": {
   "display_name": "Python 3",
   "language": "python",
   "name": "python3"
  },
  "language_info": {
   "codemirror_mode": {
    "name": "ipython",
    "version": 3
   },
   "file_extension": ".py",
   "mimetype": "text/x-python",
   "name": "python",
   "nbconvert_exporter": "python",
   "pygments_lexer": "ipython3",
   "version": "3.6.3"
  }
 },
 "nbformat": 4,
 "nbformat_minor": 2
}
