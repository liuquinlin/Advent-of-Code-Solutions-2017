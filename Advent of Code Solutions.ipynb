{
 "cells": [
  {
   "cell_type": "markdown",
   "metadata": {},
   "source": [
    "# 2017 Advent of Code\n",
    "\n",
    "This is my (plus possibly friends if I can convince them to do this as well) list of solutions to 2017's [Advent of Code](https://adventofcode.com/) challenges. Mostly doing this for fun and will be trying to record problem solutions + some meta-commentary about them."
   ]
  },
  {
   "cell_type": "markdown",
   "metadata": {},
   "source": [
    "## Table of Contents\n",
    "1. [Inverse Captcha](#day1)\n"
   ]
  },
  {
   "cell_type": "markdown",
   "metadata": {},
   "source": [
    "## [Day 1: Inverse Captcha](https://adventofcode.com/2017/day/1) <a name=\"day1\"></a>\n",
    "\n",
    "### Part A\n",
    "\n",
    "Given a string of integers output the sum of the digits that match the next digit in the list (and the list is circular so the last number counts as adjacent to the first). So \"21233142\" should be 3 + 2 = 5 (the adjacent 3's in the middle plus the circularly adjacent 2's).\n",
    "\n",
    "My first solution is a pretty straightforward for loop that takes advantage of Python's negative array indexing to avoid doing anything extra for the circular requirement."
   ]
  },
  {
   "cell_type": "code",
   "execution_count": 1,
   "metadata": {},
   "outputs": [],
   "source": [
    "def test_inverse_captcha(f):\n",
    "    assert(f(\"1122\") == 3)\n",
    "    assert(f(\"1111\") == 4)\n",
    "    assert(f(\"1234\") == 0)\n",
    "    assert(f(\"91212129\") == 9)\n",
    "    assert(f(\"\") == 0)\n",
    "    assert(f(\"3\") == 3)\n",
    "\n",
    "def find_inverse_captcha(digits):\n",
    "    sum = 0\n",
    "    for i in range(len(digits)):\n",
    "        if digits[i] == digits[i-1]:\n",
    "            sum += int(digits[i])\n",
    "    return sum\n",
    "\n",
    "test_inverse_captcha(find_inverse_captcha)"
   ]
  },
  {
   "cell_type": "markdown",
   "metadata": {},
   "source": [
    "The only thing noticeable about this solution is using the fact that in Python, `array[-1]` refers to the last element of the array (and similarly `array[-i]` refers to the ith last element). So by comparing `digits[i]` with `digits[i-1]` we're able to nicely check the first vs last digit at the `i = 0` step, whereas if we had compared to `digits[i+1]` we would've had to do something extra (e.g using `(i + 1) % N` to make the last index wrap back to the first, or maybe appending the first digit to the end of the digit string).\n",
    "\n",
    "Note also that I could've avoided the `for i in range(len(digits))` with the fancier `for (i, digit) in enumerate(digits)`. `enumerate` on a list returns a list of tuples `(index, element)` on the list; for example:"
   ]
  },
  {
   "cell_type": "code",
   "execution_count": 2,
   "metadata": {},
   "outputs": [
    {
     "name": "stdout",
     "output_type": "stream",
     "text": [
      "0 a\n",
      "1 b\n",
      "2 c\n"
     ]
    }
   ],
   "source": [
    "for (x, y) in enumerate([\"a\", \"b\", \"c\"]):\n",
    "    print(str(x) + \" \" + y)"
   ]
  },
  {
   "cell_type": "markdown",
   "metadata": {},
   "source": [
    " But I personally find `range(len(digits))` simpler and more immediately understandable.\n",
    "\n",
    "There are also some things you can do with enumerate to get even shorter solutions though:"
   ]
  },
  {
   "cell_type": "code",
   "execution_count": 3,
   "metadata": {},
   "outputs": [],
   "source": [
    "def find_inverse_captcha_short(digits):\n",
    "    return sum(int(d) for (i, d) in enumerate(digits) if digits[i] == digits[i-1])\n",
    "\n",
    "test_inverse_captcha(find_inverse_captcha_short)"
   ]
  },
  {
   "cell_type": "markdown",
   "metadata": {},
   "source": [
    "Here we use the magic of Python's list comprehensions to get a nice one line solution. We need enumerate for this since here we need to capture both the index (for comparing adjacent digits) and the digit (for outputting the sum) in the same line. If you're not familiar with list comprehension and how the code above is working, hopefully the following examples will clarify:"
   ]
  },
  {
   "cell_type": "code",
   "execution_count": 4,
   "metadata": {},
   "outputs": [
    {
     "data": {
      "text/plain": [
       "6"
      ]
     },
     "execution_count": 4,
     "metadata": {},
     "output_type": "execute_result"
    }
   ],
   "source": [
    "# sum finds the sum of a list of numbers\n",
    "sum([1,2,3])"
   ]
  },
  {
   "cell_type": "code",
   "execution_count": 5,
   "metadata": {},
   "outputs": [
    {
     "data": {
      "text/plain": [
       "[2, 4, 6]"
      ]
     },
     "execution_count": 5,
     "metadata": {},
     "output_type": "execute_result"
    }
   ],
   "source": [
    "# List comprehension lets you construct a list by saying \"x for y in list\" where x can make use of y,\n",
    "# which is a variable that will iterate through the values in list\n",
    "[2*x for x in [1,2,3]]"
   ]
  },
  {
   "cell_type": "code",
   "execution_count": 6,
   "metadata": {},
   "outputs": [
    {
     "data": {
      "text/plain": [
       "[16, 25, 36]"
      ]
     },
     "execution_count": 6,
     "metadata": {},
     "output_type": "execute_result"
    }
   ],
   "source": [
    "# We can also use an if statement in the list comprehension to filter out results\n",
    "[x*x for x in [1,2,3,4,5,6] if x > 3]"
   ]
  },
  {
   "cell_type": "markdown",
   "metadata": {},
   "source": [
    "### Part B\n",
    "\n",
    "Now instead of comparing adjacent digits, we need to compare against the digit halfway around the circular list. That is, for \"21233142\" we want to be comparing the first 2 against the second 3 (the 5th digit). Thankfully we can assume we have an even number of elements. Actually, this problem is extremely similar to the original one; it's just that instead of caring `i` and `i+1`, we're comparing `i` and `i + len(digits)/2`. So in fact we can get very similar solutions to the ones in Part A, again using Python's ability to interpret negative array indices. "
   ]
  },
  {
   "cell_type": "code",
   "execution_count": 7,
   "metadata": {},
   "outputs": [],
   "source": [
    "def test_halfway_captcha(f):\n",
    "    assert(f(\"1212\") == 6)\n",
    "    assert(f(\"1221\") == 0)\n",
    "    assert(f(\"123425\") == 4)\n",
    "    assert(f(\"123123\") == 12)\n",
    "    assert(f(\"12131415\") == 4)\n",
    "    assert(f(\"\") == 0)\n",
    "\n",
    "def find_halfway_captcha(digits):\n",
    "    assert(len(digits) % 2 == 0)\n",
    "    step = len(digits) // 2 # Note that // is integer division while / will return a float\n",
    "    sum = 0\n",
    "    for i in range(len(digits)):\n",
    "        if digits[i] == digits[i - step]:\n",
    "            sum += int(digits[i])\n",
    "    return sum\n",
    "\n",
    "def find_halfway_captcha_short(digits):\n",
    "    assert(len(digits) % 2 == 0)\n",
    "    return sum(int(d) for (i, d) in enumerate(digits) if digits[i] == digits[i - len(digits)//2])\n",
    "\n",
    "test_halfway_captcha(find_halfway_captcha)\n",
    "test_halfway_captcha(find_halfway_captcha_short)"
   ]
  },
  {
   "cell_type": "markdown",
   "metadata": {},
   "source": [
    "There's actually a nice symmetry we can exploit here though because the step is exactly halfway. Note that if `i` and `i + N/2` match, then we automatically know `i + N/2` and `i + N/2 + N/2 = i` will match. So actually we only have to do the comparisons for the first half of the array, and then we can just double the resulting sum."
   ]
  },
  {
   "cell_type": "code",
   "execution_count": 8,
   "metadata": {},
   "outputs": [],
   "source": [
    "def find_halfway_captcha_faster(digits):\n",
    "    assert(len(digits) % 2 == 0)\n",
    "    halfLen = len(digits) // 2\n",
    "    sum = 0\n",
    "    for i in range(halfLen):\n",
    "        if digits[i] == digits[i - halfLen]:\n",
    "            sum += int(digits[i])\n",
    "    return 2 * sum\n",
    "\n",
    "test_halfway_captcha(find_halfway_captcha_faster)    "
   ]
  },
  {
   "cell_type": "markdown",
   "metadata": {},
   "source": [
    "Now finally we'll look at some timing results."
   ]
  },
  {
   "cell_type": "code",
   "execution_count": 9,
   "metadata": {},
   "outputs": [
    {
     "name": "stdout",
     "output_type": "stream",
     "text": [
      "121 µs ± 1.63 µs per loop (mean ± std. dev. of 7 runs, 10000 loops each)\n",
      "222 µs ± 12.2 µs per loop (mean ± std. dev. of 7 runs, 1000 loops each)\n",
      "59.9 µs ± 1.7 µs per loop (mean ± std. dev. of 7 runs, 10000 loops each)\n"
     ]
    }
   ],
   "source": [
    "from random import randint\n",
    "\n",
    "# Random 1000 digit string\n",
    "big_digits = \"\".join(str(randint(0,9)) for i in range(1000))\n",
    "\n",
    "%timeit find_halfway_captcha(big_digits)\n",
    "%timeit find_halfway_captcha_short(big_digits)\n",
    "%timeit find_halfway_captcha_faster(big_digits)"
   ]
  },
  {
   "cell_type": "markdown",
   "metadata": {},
   "source": [
    "As expected, `find_halfway_captcha_faster` is twice as fast as `find_halfway_captcha` since they're essentially the same method but the faster version only checks half the array size. `find_halfway_captcha_short` is significantly (about two times) slower, probably as a result of having to do the `len(digits)//2` calculation for every digit and also possibly because `enumerate()` is a bit slower than `range(len())`."
   ]
  },
  {
   "cell_type": "code",
   "execution_count": 10,
   "metadata": {},
   "outputs": [
    {
     "name": "stdout",
     "output_type": "stream",
     "text": [
      "137 µs ± 2.09 µs per loop (mean ± std. dev. of 7 runs, 10000 loops each)\n"
     ]
    }
   ],
   "source": [
    "def find_halfway_captcha_short_2(digits):\n",
    "    assert(len(digits) % 2 == 0)\n",
    "    N = len(digits) // 2\n",
    "    return sum(int(d) for (i, d) in enumerate(digits) if digits[i] == digits[i - N])\n",
    "\n",
    "%timeit find_halfway_captcha_short_2(big_digits)"
   ]
  },
  {
   "cell_type": "markdown",
   "metadata": {},
   "source": [
    "This does indeed seem to be the case, as caching the `len(digits) // 2` value brings the list comprehension method's speed much closer to the for loops."
   ]
  },
  {
   "cell_type": "code",
   "execution_count": null,
   "metadata": {},
   "outputs": [],
   "source": []
  }
 ],
 "metadata": {
  "kernelspec": {
   "display_name": "Python 3",
   "language": "python",
   "name": "python3"
  },
  "language_info": {
   "codemirror_mode": {
    "name": "ipython",
    "version": 3
   },
   "file_extension": ".py",
   "mimetype": "text/x-python",
   "name": "python",
   "nbconvert_exporter": "python",
   "pygments_lexer": "ipython3",
   "version": "3.6.3"
  }
 },
 "nbformat": 4,
 "nbformat_minor": 2
}
